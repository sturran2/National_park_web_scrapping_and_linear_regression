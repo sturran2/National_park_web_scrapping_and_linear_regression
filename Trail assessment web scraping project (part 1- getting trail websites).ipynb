{
 "cells": [
  {
   "cell_type": "markdown",
   "id": "eb15f33f",
   "metadata": {},
   "source": [
    "# Trail scrapping project"
   ]
  },
  {
   "cell_type": "markdown",
   "id": "e9f7601f",
   "metadata": {},
   "source": [
    "This project is designed to generate a table from scrapped data on a website. This assessment will be looking at data from HikingProject for the National Parks. This is designed to be used when a region gets upgraded to a National Park. By comparing to this database, it is hoped that it will help identify trails that will see a spike in users in the new National Park so proper maintentance and security can be allocated for this uptick. "
   ]
  },
  {
   "cell_type": "code",
   "execution_count": 87,
   "id": "d08698dc",
   "metadata": {},
   "outputs": [],
   "source": [
    "import os\n",
    "from selenium import webdriver\n",
    "import pandas as pd\n",
    "import csv\n",
    "import time\n",
    "from bs4 import BeautifulSoup as bs\n",
    "import numpy as np\n",
    "import matplotlib as plt"
   ]
  },
  {
   "cell_type": "code",
   "execution_count": 54,
   "id": "fcf7d1c7",
   "metadata": {},
   "outputs": [],
   "source": [
    "#set up Selenium to access the web driver"
   ]
  },
  {
   "cell_type": "code",
   "execution_count": 162,
   "id": "bbdab4b0",
   "metadata": {},
   "outputs": [
    {
     "name": "stderr",
     "output_type": "stream",
     "text": [
      "/var/folders/z4/gqr7pbzd1jx381lnrbtb0c4w0000gp/T/ipykernel_963/2050704745.py:3: DeprecationWarning: executable_path has been deprecated, please pass in a Service object\n",
      "  driver=webdriver.Chrome(chromedriver)\n"
     ]
    }
   ],
   "source": [
    "chromedriver='/Applications/chromedriver'\n",
    "os.environ['webdriver.chrome.driver'] = chromedriver\n",
    "driver=webdriver.Chrome(chromedriver)"
   ]
  },
  {
   "cell_type": "code",
   "execution_count": 59,
   "id": "45372d43",
   "metadata": {},
   "outputs": [
    {
     "name": "stderr",
     "output_type": "stream",
     "text": [
      "/var/folders/z4/gqr7pbzd1jx381lnrbtb0c4w0000gp/T/ipykernel_963/1792656644.py:3: DeprecationWarning: executable_path has been deprecated, please pass in a Service object\n",
      "  driver=webdriver.Chrome(chromedriver)\n",
      "/var/folders/z4/gqr7pbzd1jx381lnrbtb0c4w0000gp/T/ipykernel_963/1792656644.py:5: DeprecationWarning: find_element_by_* commands are deprecated. Please use find_element() instead\n",
      "  area_button=driver.find_element_by_xpath('//a[contains(.,\"Area\")]')\n"
     ]
    }
   ],
   "source": [
    "\n",
    "driver.get('https://www.hikingproject.com/search?q=national%20park')\n",
    "area_button=driver.find_element_by_xpath('//a[contains(.,\"Area\")]')\n",
    "area_button.click()\n",
    "\n",
    "#this brings Chrome to the list of national park pages on hikingproject's directory. Next step is click \"Load More\" button."
   ]
  },
  {
   "cell_type": "code",
   "execution_count": 60,
   "id": "56925cba",
   "metadata": {},
   "outputs": [
    {
     "name": "stderr",
     "output_type": "stream",
     "text": [
      "/var/folders/z4/gqr7pbzd1jx381lnrbtb0c4w0000gp/T/ipykernel_963/101422780.py:1: DeprecationWarning: find_element_by_* commands are deprecated. Please use find_element() instead\n",
      "  load_more_button=driver.find_element_by_xpath('//a[contains(.,\"Load\")]')\n"
     ]
    }
   ],
   "source": [
    "load_more_button=driver.find_element_by_xpath('//a[contains(.,\"Load\")]')\n",
    "load_more_button.click()\n",
    "#this makes sure all the links for all the US parks on Hikerproject show up. "
   ]
  },
  {
   "cell_type": "markdown",
   "id": "1f2952e4",
   "metadata": {},
   "source": [
    "There are no more links to click. The next step is to derive a formula to extra all the links in a list. First convert the website as is to Beautiful soup"
   ]
  },
  {
   "cell_type": "code",
   "execution_count": 61,
   "id": "c387de80",
   "metadata": {},
   "outputs": [],
   "source": [
    "PL_soup=bs(driver.page_source)"
   ]
  },
  {
   "cell_type": "code",
   "execution_count": 62,
   "id": "f36c5314",
   "metadata": {},
   "outputs": [],
   "source": [
    "def get_site_list(header, soup):\n",
    "    \n",
    "    site_list=[link['href'] for head in soup.find_all(header) for link in head.find_all('a')]\n",
    "    return site_list"
   ]
  },
  {
   "cell_type": "code",
   "execution_count": 63,
   "id": "2387a8d7",
   "metadata": {},
   "outputs": [],
   "source": [
    "park_site_list=get_site_list('strong', PL_soup)"
   ]
  },
  {
   "cell_type": "code",
   "execution_count": 64,
   "id": "9f88ea9f",
   "metadata": {},
   "outputs": [
    {
     "data": {
      "text/plain": [
       "'/directory/8009611/great-smoky-mountains-national-park?search=1&type=area&method=resultsPage&query=national%20park'"
      ]
     },
     "execution_count": 64,
     "metadata": {},
     "output_type": "execute_result"
    }
   ],
   "source": [
    "#only the first 53 sites are needed as after that they are not US National Parks.\n",
    "park_site_list=park_site_list[0:53]\n",
    "park_site_list[-1]"
   ]
  },
  {
   "cell_type": "markdown",
   "id": "d370ae96",
   "metadata": {},
   "source": [
    "Looking at the links above, the links can be cleaned up. Everything after the questionmark can also be deleted. "
   ]
  },
  {
   "cell_type": "code",
   "execution_count": 65,
   "id": "0d3e5043",
   "metadata": {},
   "outputs": [
    {
     "data": {
      "text/plain": [
       "['https://www.hikingproject.com//directory/8011077/yellowstone-national-park',\n",
       " 'https://www.hikingproject.com//directory/8007144/redwood-national-park',\n",
       " 'https://www.hikingproject.com//directory/8007222/sequoia-national-park',\n",
       " 'https://www.hikingproject.com//directory/8007223/yosemite-national-park',\n",
       " 'https://www.hikingproject.com//directory/8007303/pinnacles-national-park']"
      ]
     },
     "execution_count": 65,
     "metadata": {},
     "output_type": "execute_result"
    }
   ],
   "source": [
    "park_site_list=[site.split('?')[0] for site in park_site_list]\n",
    "park_site_list=['https://www.hikingproject.com/'+site for site in park_site_list]\n",
    "park_site_list[0:5]"
   ]
  },
  {
   "cell_type": "markdown",
   "id": "7f3f82b2",
   "metadata": {},
   "source": [
    "The next step is to go to each National Park's site, and find the website for each trail. First, similar to above, a button must be clicked several times to access more data. Unlike above, this task requires clicking on the link until the link disappears. This is because this assessment needs to scrape the websites for each trail at the national park so the program needs to keep clicking until no more trail links are available to load. First, save the above list of National Park links so they do not need to be scraped again."
   ]
  },
  {
   "cell_type": "code",
   "execution_count": 66,
   "id": "e6a10e85",
   "metadata": {},
   "outputs": [],
   "source": [
    "#To avoid risk of losing data, save the list of parks to a csv. \n",
    "with open('/Users/scottturransky1/Documents/2022_metis/park_link_list.csv', 'w') as pll:\n",
    "    writer=csv.writer(pll)\n",
    "    writer.writerows(park_site_list)\n",
    "\n"
   ]
  },
  {
   "cell_type": "code",
   "execution_count": 1,
   "id": "558938ee",
   "metadata": {},
   "outputs": [],
   "source": [
    "#be sure to close the driver before running it again.\n",
    "#driver.close()"
   ]
  },
  {
   "cell_type": "markdown",
   "id": "189869f0",
   "metadata": {},
   "source": [
    "# Second website list generation"
   ]
  },
  {
   "cell_type": "markdown",
   "id": "fd11c52e",
   "metadata": {},
   "source": [
    "Previously, the list of national parks links were saved to a CSV file. This step starts with opening the CSV file and getting the list (so if the Jupyter notebook was closed, it could just start here. "
   ]
  },
  {
   "cell_type": "code",
   "execution_count": 68,
   "id": "04842220",
   "metadata": {},
   "outputs": [
    {
     "data": {
      "text/plain": [
       "['https://www.hikingproject.com//directory/8011077/yellowstone-national-park',\n",
       " 'https://www.hikingproject.com//directory/8007144/redwood-national-park',\n",
       " 'https://www.hikingproject.com//directory/8007222/sequoia-national-park',\n",
       " 'https://www.hikingproject.com//directory/8007223/yosemite-national-park',\n",
       " 'https://www.hikingproject.com//directory/8007303/pinnacles-national-park',\n",
       " 'https://www.hikingproject.com//directory/8007346/joshua-tree-national-park',\n",
       " 'https://www.hikingproject.com//directory/8007347/death-valley-national-park',\n",
       " 'https://www.hikingproject.com//directory/8007858/everglades-national-park',\n",
       " 'https://www.hikingproject.com//directory/8008003/haleakala-national-park',\n",
       " 'https://www.hikingproject.com//directory/8008816/voyageurs-national-park',\n",
       " 'https://www.hikingproject.com//directory/8009003/glacier-national-park',\n",
       " 'https://www.hikingproject.com//directory/8009873/crater-lake-national-park',\n",
       " 'https://www.hikingproject.com//directory/8010544/zion-national-park',\n",
       " 'https://www.hikingproject.com//directory/8010578/canyonlands-national-park',\n",
       " 'https://www.hikingproject.com//directory/8010579/arches-national-park',\n",
       " 'https://www.hikingproject.com//directory/8010691/shenandoah-national-park',\n",
       " 'https://www.hikingproject.com//directory/8010749/olympic-national-park',\n",
       " 'https://www.hikingproject.com//directory/8012495/indiana-dunes-national-park',\n",
       " 'https://www.hikingproject.com//directory/8011076/grand-teton-national-park',\n",
       " 'https://www.hikingproject.com//directory/8006843/denali-national-park',\n",
       " 'https://www.hikingproject.com//directory/8006869/kenai-fjords-national-park',\n",
       " 'https://www.hikingproject.com//directory/8006915/grand-canyon-national-park',\n",
       " 'https://www.hikingproject.com//directory/8006945/petrified-forest-national-park',\n",
       " 'https://www.hikingproject.com//directory/8007123/lassen-volcanic-national-park',\n",
       " 'https://www.hikingproject.com//directory/8007226/kings-canyon-national-park',\n",
       " 'https://www.hikingproject.com//directory/8007274/channel-islands-national-park',\n",
       " 'https://www.hikingproject.com//directory/8007421/rocky-mountain-national-park',\n",
       " 'https://www.hikingproject.com//directory/8007520/mesa-verde-national-park',\n",
       " 'https://www.hikingproject.com//directory/8007985/hawaii-volcanoes-national-park',\n",
       " 'https://www.hikingproject.com//directory/8008350/mammoth-cave-national-park',\n",
       " 'https://www.hikingproject.com//directory/8008454/acadia-national-park',\n",
       " 'https://www.hikingproject.com//directory/8008693/isle-royale-national-park',\n",
       " 'https://www.hikingproject.com//directory/8009154/great-basin-national-park',\n",
       " 'https://www.hikingproject.com//directory/8009374/carlsbad-caverns-national-park',\n",
       " 'https://www.hikingproject.com//directory/8009375/white-sands-national-park',\n",
       " 'https://www.hikingproject.com//directory/8009692/theodore-roosevelt-national-park',\n",
       " 'https://www.hikingproject.com//directory/8009710/cuyahoga-valley-national-park',\n",
       " 'https://www.hikingproject.com//directory/8010195/congaree-national-park',\n",
       " 'https://www.hikingproject.com//directory/8010228/badlands-national-park',\n",
       " 'https://www.hikingproject.com//directory/8010380/big-bend-national-park',\n",
       " 'https://www.hikingproject.com//directory/8010381/guadalupe-mountains-national-park',\n",
       " 'https://www.hikingproject.com//directory/8010545/bryce-canyon-national-park',\n",
       " 'https://www.hikingproject.com//directory/8010546/capitol-reef-national-park',\n",
       " 'https://www.hikingproject.com//directory/8010750/north-cascades-national-park',\n",
       " 'https://www.hikingproject.com//directory/8010842/mount-rainier-national-park',\n",
       " 'https://www.hikingproject.com//directory/8011944/saguaro-national-park',\n",
       " 'https://www.hikingproject.com//directory/8012558/virgin-islands-national-park',\n",
       " 'https://www.hikingproject.com//directory/8007098/hot-springs-national-park',\n",
       " 'https://www.hikingproject.com//directory/8010227/wind-cave-national-park',\n",
       " 'https://www.hikingproject.com//directory/8006884/glacier-bay-national-park-and-preserve',\n",
       " 'https://www.hikingproject.com//directory/8007481/black-canyon-of-the-gunnison-national-park',\n",
       " 'https://www.hikingproject.com//directory/8007521/great-sand-dunes-national-park',\n",
       " 'https://www.hikingproject.com//directory/8009611/great-smoky-mountains-national-park']"
      ]
     },
     "execution_count": 68,
     "metadata": {},
     "output_type": "execute_result"
    }
   ],
   "source": [
    "nat_park_list2=[]\n",
    "with open ('park_link_list.csv') as csv_file:\n",
    "    csv_reader=csv.reader(csv_file, delimiter=',')\n",
    "    for row in csv_reader:\n",
    "        nat_park_list2.append(\"\".join(row))\n",
    "nat_park_list2"
   ]
  },
  {
   "cell_type": "markdown",
   "id": "94ce6406",
   "metadata": {},
   "source": [
    "The next step is find the different trails at each site. This code is written in case the process stopped midway through. This way if the has already found data for a park, it will not be run again (this is the if/else statement at the beginning). A dictionary will be created. The keys will be the national park website, and the value for each key (NP) will be a list of all the trail websites at that park. "
   ]
  },
  {
   "cell_type": "code",
   "execution_count": 158,
   "id": "024769c2",
   "metadata": {},
   "outputs": [],
   "source": [
    "np_trail_dict={}"
   ]
  },
  {
   "cell_type": "code",
   "execution_count": 187,
   "id": "fe579ff1",
   "metadata": {},
   "outputs": [],
   "source": []
  },
  {
   "cell_type": "code",
   "execution_count": 188,
   "id": "28e63b8c",
   "metadata": {},
   "outputs": [
    {
     "name": "stderr",
     "output_type": "stream",
     "text": [
      "/var/folders/z4/gqr7pbzd1jx381lnrbtb0c4w0000gp/T/ipykernel_963/2162473958.py:5: DeprecationWarning: executable_path has been deprecated, please pass in a Service object\n",
      "  driver=webdriver.Chrome(chromedriver)\n",
      "/var/folders/z4/gqr7pbzd1jx381lnrbtb0c4w0000gp/T/ipykernel_963/2162473958.py:13: DeprecationWarning: find_element_by_* commands are deprecated. Please use find_element() instead\n",
      "  get_more_button=driver.find_element_by_xpath('//button[@id=\"load-more-trails\"]')\n"
     ]
    }
   ],
   "source": [
    "for park in nat_park_list2:\n",
    "    npark=park.split('/')[-1]\n",
    "    chromedriver='/Applications/chromedriver'\n",
    "    os.environ['webdriver.chrome.driver'] = chromedriver\n",
    "    driver=webdriver.Chrome(chromedriver)\n",
    "    if npark in np_trail_dict.keys():\n",
    "        continue\n",
    "    else:\n",
    "        driver.get(park)\n",
    "        while True:\n",
    "            time.sleep(1)\n",
    "            try:\n",
    "                get_more_button=driver.find_element_by_xpath('//button[@id=\"load-more-trails\"]')\n",
    "                get_more_button.click()\n",
    "            except:\n",
    "                break\n",
    "        trail_soup=bs(driver.page_source)\n",
    "        try:\n",
    "            temp_trail_list=[link['href'] for link in trail_soup.find(class_='table table-striped trail-table').find_all('a')]\n",
    "        except AttributeError:\n",
    "            print(park)\n",
    "        np_trail_dict[npark]=temp_trail_list\n",
    "\n"
   ]
  },
  {
   "cell_type": "code",
   "execution_count": 193,
   "id": "87497118",
   "metadata": {},
   "outputs": [
    {
     "data": {
      "text/plain": [
       "2939"
      ]
     },
     "execution_count": 193,
     "metadata": {},
     "output_type": "execute_result"
    }
   ],
   "source": [
    "numtrails=0\n",
    "for park in np_trail_dict.values():\n",
    "    numtrails+=len(park)\n",
    "numtrails"
   ]
  },
  {
   "cell_type": "code",
   "execution_count": 189,
   "id": "24e1caa0",
   "metadata": {},
   "outputs": [],
   "source": [
    "driver.close()"
   ]
  },
  {
   "cell_type": "code",
   "execution_count": 200,
   "id": "338c1f42",
   "metadata": {},
   "outputs": [],
   "source": [
    "#To avoid risk of losing data, save the list of trails to a csv. \n",
    "with open('/Users/scottturransky1/Documents/2022_metis/trail_websites.csv', 'w') as tw:\n",
    "    writer=csv.writer(tw)\n",
    "    for key, value in np_trail_dict.items():\n",
    "        writer.writerow([key,value])\n"
   ]
  },
  {
   "cell_type": "markdown",
   "id": "7f0e8074",
   "metadata": {},
   "source": [
    "The next step is create the dataframe that will be used for the linear analysis. First, create columns for the trail name, national park name, and the trail website. That will be done in a new Notebook to avoid running the above code multiple times. It will start with the importing the CSV just written. "
   ]
  },
  {
   "cell_type": "code",
   "execution_count": 201,
   "id": "aa57fb25",
   "metadata": {},
   "outputs": [
    {
     "name": "stdout",
     "output_type": "stream",
     "text": [
      "Stored 'np_trail_dict' (dict)\n"
     ]
    }
   ],
   "source": [
    "%store np_trail_dict"
   ]
  },
  {
   "cell_type": "code",
   "execution_count": null,
   "id": "bc287f1e",
   "metadata": {},
   "outputs": [],
   "source": []
  },
  {
   "cell_type": "markdown",
   "id": "4017830b",
   "metadata": {},
   "source": []
  }
 ],
 "metadata": {
  "kernelspec": {
   "display_name": "Python [conda env:metis] *",
   "language": "python",
   "name": "conda-env-metis-py"
  },
  "language_info": {
   "codemirror_mode": {
    "name": "ipython",
    "version": 3
   },
   "file_extension": ".py",
   "mimetype": "text/x-python",
   "name": "python",
   "nbconvert_exporter": "python",
   "pygments_lexer": "ipython3",
   "version": "3.10.4"
  }
 },
 "nbformat": 4,
 "nbformat_minor": 5
}
